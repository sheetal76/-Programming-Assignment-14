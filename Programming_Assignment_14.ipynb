{
  "nbformat": 4,
  "nbformat_minor": 0,
  "metadata": {
    "colab": {
      "provenance": []
    },
    "kernelspec": {
      "name": "python3",
      "display_name": "Python 3"
    },
    "language_info": {
      "name": "python"
    }
  },
  "cells": [
    {
      "cell_type": "code",
      "execution_count": 1,
      "metadata": {
        "id": "UtY6f-1bbQrL"
      },
      "outputs": [],
      "source": [
        "#1. Define a class with a generator which can iterate the numbers, which are divisible by 7, between a given range 0 and n."
      ]
    },
    {
      "cell_type": "code",
      "source": [
        "class DivisibleBySevenGenerator:\n",
        "    def __init__(self, n):\n",
        "        self.n = n\n",
        "\n",
        "    def generate_divisible_by_seven(self):\n",
        "        for i in range(self.n + 1):\n",
        "            if i % 7 == 0:\n",
        "                yield i\n",
        "\n",
        "\n",
        "n_value = 50\n",
        "divisible_by_seven_gen = DivisibleBySevenGenerator(n_value)\n",
        "\n",
        "for num in divisible_by_seven_gen.generate_divisible_by_seven():\n",
        "    print(num)\n"
      ],
      "metadata": {
        "colab": {
          "base_uri": "https://localhost:8080/"
        },
        "id": "FTyrJII-bqoa",
        "outputId": "f57b8de9-903b-4489-94e1-6068ee7b5337"
      },
      "execution_count": 7,
      "outputs": [
        {
          "output_type": "stream",
          "name": "stdout",
          "text": [
            "0\n",
            "7\n",
            "14\n",
            "21\n",
            "28\n",
            "35\n",
            "42\n",
            "49\n"
          ]
        }
      ]
    },
    {
      "cell_type": "code",
      "source": [
        "#2. Write a program to compute the frequency of the words from the input. The output should output after sorting the key alphanumerically."
      ],
      "metadata": {
        "id": "4EnfMkhVbRyd"
      },
      "execution_count": 2,
      "outputs": []
    },
    {
      "cell_type": "code",
      "source": [
        "def word_frequency(input_text):\n",
        "\n",
        "    words = input_text.split()\n",
        "\n",
        "\n",
        "    frequency_dict = {}\n",
        "\n",
        "    for word in words:\n",
        "\n",
        "        cleaned_word = word.strip(\".,!?\").lower()\n",
        "        frequency_dict[cleaned_word] = frequency_dict.get(cleaned_word, 0) + 1\n",
        "\n",
        "\n",
        "    sorted_frequency = sorted(frequency_dict.items())\n",
        "\n",
        "    return sorted_frequency\n",
        "\n",
        "\n",
        "input_text = \"This is an example. Example is a simple demonstration.\"\n",
        "result = word_frequency(input_text)\n",
        "\n",
        "\n",
        "for word, count in result:\n",
        "    print(f\"{word}: {count}\")\n"
      ],
      "metadata": {
        "colab": {
          "base_uri": "https://localhost:8080/"
        },
        "id": "qG7qiXSgb70R",
        "outputId": "2104ac93-9454-4064-ecb7-698670b6a06f"
      },
      "execution_count": 8,
      "outputs": [
        {
          "output_type": "stream",
          "name": "stdout",
          "text": [
            "a: 1\n",
            "an: 1\n",
            "demonstration: 1\n",
            "example: 2\n",
            "is: 2\n",
            "simple: 1\n",
            "this: 1\n"
          ]
        }
      ]
    },
    {
      "cell_type": "code",
      "source": [
        "#3. Define a class Person and its two child classes: Male and Female. All classes have a method\n",
        "#\"getGender\" which can print \"Male\" for Male class and \"Female\" for Female class."
      ],
      "metadata": {
        "id": "dfjLBL6ubU5W"
      },
      "execution_count": 3,
      "outputs": []
    },
    {
      "cell_type": "code",
      "source": [
        "class Person:\n",
        "    def getGender(self):\n",
        "        pass\n",
        "\n",
        "class Male(Person):\n",
        "    def getGender(self):\n",
        "        print(\"Male\")\n",
        "\n",
        "class Female(Person):\n",
        "    def getGender(self):\n",
        "        print(\"Female\")\n",
        "\n",
        "male_person = Male()\n",
        "female_person = Female()\n",
        "\n",
        "male_person.getGender()\n",
        "female_person.getGender()"
      ],
      "metadata": {
        "colab": {
          "base_uri": "https://localhost:8080/"
        },
        "id": "NBqAnI7hcNXm",
        "outputId": "292384f9-171a-4aa0-9480-ad8397802291"
      },
      "execution_count": 9,
      "outputs": [
        {
          "output_type": "stream",
          "name": "stdout",
          "text": [
            "Male\n",
            "Female\n"
          ]
        }
      ]
    },
    {
      "cell_type": "code",
      "source": [
        "#4. Please write a program to generate all sentences where subject is in [\"I\", \"You\"] and verb is in\n",
        " #['Play', \"Love\"] and the object is in [\"Hockey\",\"Football\"]."
      ],
      "metadata": {
        "id": "tZY-tE0tbZpO"
      },
      "execution_count": 4,
      "outputs": []
    },
    {
      "cell_type": "code",
      "source": [
        "subjects = [\"I\", \"You\"]\n",
        "verbs = [\"Play\", \"Love\"]\n",
        "objects = [\"Hockey\", \"Football\"]\n",
        "\n",
        "\n",
        "sentences = [f\"{subject} {verb} {obj}\" for subject in subjects for verb in verbs for obj in objects]\n",
        "\n",
        "\n",
        "for sentence in sentences:\n",
        "    print(sentence)\n"
      ],
      "metadata": {
        "colab": {
          "base_uri": "https://localhost:8080/"
        },
        "id": "-YSxckfAcXHZ",
        "outputId": "7953ac06-709c-45ed-fbf5-466ea0792c3e"
      },
      "execution_count": 10,
      "outputs": [
        {
          "output_type": "stream",
          "name": "stdout",
          "text": [
            "I Play Hockey\n",
            "I Play Football\n",
            "I Love Hockey\n",
            "I Love Football\n",
            "You Play Hockey\n",
            "You Play Football\n",
            "You Love Hockey\n",
            "You Love Football\n"
          ]
        }
      ]
    },
    {
      "cell_type": "code",
      "source": [
        "#5. Please write a program to compress and decompress the string \"hello world!hello world!hello world!hello world!\""
      ],
      "metadata": {
        "id": "6-CRP3q0beNq"
      },
      "execution_count": 5,
      "outputs": []
    },
    {
      "cell_type": "code",
      "source": [
        "import zlib\n",
        "\n",
        "def compress_string(input_string):\n",
        "\n",
        "    input_bytes = input_string.encode('utf-8')\n",
        "\n",
        "\n",
        "    compressed_data = zlib.compress(input_bytes)\n",
        "\n",
        "    return compressed_data\n",
        "\n",
        "def decompress_string(compressed_data):\n",
        "\n",
        "    decompressed_bytes = zlib.decompress(compressed_data)\n",
        "\n",
        "    decompressed_string = decompressed_bytes.decode('utf-8')\n",
        "\n",
        "    return decompressed_string\n",
        "\n",
        "\n",
        "input_string = \"hello world!hello world!hello world!hello world!\"\n",
        "\n",
        "\n",
        "compressed_data = compress_string(input_string)\n",
        "print(\"Compressed Data:\", compressed_data)\n",
        "\n",
        "\n",
        "decompressed_string = decompress_string(compressed_data)\n",
        "print(\"Decompressed String:\", decompressed_string)\n"
      ],
      "metadata": {
        "colab": {
          "base_uri": "https://localhost:8080/"
        },
        "id": "VCoc9sGRciHQ",
        "outputId": "77c3ba44-b1bf-40ab-c4cc-d6278b70338d"
      },
      "execution_count": 11,
      "outputs": [
        {
          "output_type": "stream",
          "name": "stdout",
          "text": [
            "Compressed Data: b'x\\x9c\\xcbH\\xcd\\xc9\\xc9W(\\xcf/\\xcaIQ\\xcc \\x82\\r\\x00\\xbd[\\x11\\xf5'\n",
            "Decompressed String: hello world!hello world!hello world!hello world!\n"
          ]
        }
      ]
    },
    {
      "cell_type": "code",
      "source": [
        "#6. Please write a binary search function which searches an item in a sorted list.\n",
        "#The function should return the index of element to be searched in the list."
      ],
      "metadata": {
        "id": "kmezHFLwbhxn"
      },
      "execution_count": 6,
      "outputs": []
    },
    {
      "cell_type": "code",
      "source": [
        "def binary_search(arr, target):\n",
        "    low, high = 0, len(arr) - 1\n",
        "\n",
        "    while low <= high:\n",
        "        mid = (low + high) // 2\n",
        "        mid_value = arr[mid]\n",
        "\n",
        "        if mid_value == target:\n",
        "            return mid\n",
        "        elif mid_value < target:\n",
        "            low = mid + 1\n",
        "        else:\n",
        "            high = mid - 1\n",
        "\n",
        "    return -1\n",
        "\n",
        "\n",
        "sorted_list = [1, 2, 3, 4, 5, 6, 7, 8, 9, 10]\n",
        "target_element = 7\n",
        "\n",
        "result = binary_search(sorted_list, target_element)\n",
        "\n",
        "if result != -1:\n",
        "    print(f\"Element {target_element} found at index {result}\")\n",
        "else:\n",
        "    print(f\"Element {target_element} not found in the list\")\n"
      ],
      "metadata": {
        "colab": {
          "base_uri": "https://localhost:8080/"
        },
        "id": "jxTq_X5Zbl4Z",
        "outputId": "e0db055f-d8bf-419e-f2ec-6e7f7fc383cb"
      },
      "execution_count": 13,
      "outputs": [
        {
          "output_type": "stream",
          "name": "stdout",
          "text": [
            "Element 7 found at index 6\n"
          ]
        }
      ]
    },
    {
      "cell_type": "code",
      "source": [],
      "metadata": {
        "id": "3JR-gxrac41F"
      },
      "execution_count": null,
      "outputs": []
    }
  ]
}